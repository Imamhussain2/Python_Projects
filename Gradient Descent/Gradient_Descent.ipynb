{
 "cells": [
  {
   "cell_type": "markdown",
   "id": "57dbc0ac",
   "metadata": {},
   "source": [
    "# Gradient Descent Program in python"
   ]
  },
  {
   "cell_type": "markdown",
   "id": "9c940116",
   "metadata": {},
   "source": [
    "### Imamhussain Naikwade"
   ]
  },
  {
   "cell_type": "code",
   "execution_count": 1,
   "id": "9d6a4df3",
   "metadata": {},
   "outputs": [],
   "source": [
    "from sympy import *\n",
    "from math import isclose"
   ]
  },
  {
   "cell_type": "code",
   "execution_count": 2,
   "id": "73af44d7",
   "metadata": {},
   "outputs": [],
   "source": [
    "#this function takes coefficient as input and return the function in format \n",
    "#fxy = (a*x**2)+(b*x*y)+(c*y**2)\n",
    "def fun_xy(a,b,c):\n",
    "    x, y = symbols('x,y')\n",
    "    fxy = (a*x**2)+(b*x*y)+(c*y**2)\n",
    "    return fxy\n",
    "\n",
    "# this function calculates the value of the function \n",
    "def f_xy(a,b,c,x_val,y_val):\n",
    "    fxy_val = (a*x_val**2)+(b*x_val*y_val)+(c*y_val**2)\n",
    "    return fxy_val\n",
    "\n",
    "#this function find the partion derivative of the function w.r.t x and y then \n",
    "#evaluates the derivative\n",
    "def fun_diff(fxy1,x1,y1):\n",
    "    x, y = symbols('x,y')\n",
    "    df_dx=diff(fxy1,x) \n",
    "    df_dy=diff(fxy1,y)\n",
    "    i = df_dx.subs({x:x1,y:y1})\n",
    "    j = df_dy.subs({x:x1,y:y1})\n",
    "    return i,j\n",
    "\n",
    "#function to find the t of a function corresponding to the given x and y\n",
    "def tsol(fxy,i,j):\n",
    "    t = symbols('t')\n",
    "    sol = solve((i*fun_diff(fxy,x_val-i*t,y_val-j*t)[0])+(j*fun_diff(fxy,x_val-i*t,y_val-j*t)[1]))\n",
    "    return sol"
   ]
  },
  {
   "cell_type": "code",
   "execution_count": 3,
   "id": "c4ab4a73",
   "metadata": {},
   "outputs": [
    {
     "name": "stdout",
     "output_type": "stream",
     "text": [
      "coefficient of x^2:4\n",
      "coefficient of xy:-4\n",
      "coefficient of y^2:2\n",
      "Given Function:  4*x**2 - 4*x*y + 2*y**2\n",
      "value of x: 2\n",
      "value of y: 3\n",
      "Derivative of given function w.r.t x:  8*x - 4*y\n",
      "Derivative of given function w.r.t y:  -4*x + 4*y\n",
      "value of t is 1/2\tnew value of x is 0\t new value of y is 1\t u8value of function is 2\n",
      "value of t is 1/10\tnew value of x is 2/5\t new value of y is 3/5\t u8value of function is 2/5\n",
      "value of t is 1/2\tnew value of x is 0\t new value of y is 1/5\t u8value of function is 2/25\n",
      "value of t is 1/10\tnew value of x is 2/25\t new value of y is 3/25\t u8value of function is 2/125\n",
      "value of t is 1/2\tnew value of x is 0\t new value of y is 1/25\t u8value of function is 2/625\n",
      "value of t is 1/10\tnew value of x is 2/125\t new value of y is 3/125\t u8value of function is 2/3125\n",
      "value of t is 1/2\tnew value of x is 0\t new value of y is 1/125\t u8value of function is 2/15625\n",
      "value of t is 1/10\tnew value of x is 2/625\t new value of y is 3/625\t u8value of function is 2/78125\n",
      "number of iterations:  8\n",
      "gradient descent for the given function at point: (x = 2/625 , y = 3/625 )\n"
     ]
    }
   ],
   "source": [
    "#program to take co-effient as input and intial point (x,y) for function of 2 variables\n",
    "#and iterate till the fuctional value is close to 0.0005\n",
    "a = eval(input(\"coefficient of x^2:\"))   #taking coefficient of x^2 as input\n",
    "b = eval(input(\"coefficient of xy:\"))    #taking coefficient of xy as input\n",
    "c = eval(input(\"coefficient of y^2:\"))   #taking coefficient of y^2 as input\n",
    "fxy = fun_xy(a,b,c)\n",
    "print(\"Given Function: \",fxy)            #printing function\n",
    "x_val = eval(input(\"value of x: \"))      #taking initial point (value of x)\n",
    "y_val = eval(input(\"value of y: \"))      #taking initial point (value of y)\n",
    "fxy_val = f_xy(a,b,c,x_val,y_val)        #calulating value of funtion\n",
    "x, y = symbols('x,y')\n",
    "#printing Derivative of function\n",
    "print(\"Derivative of given function w.r.t x: \",diff(fxy,x))  \n",
    "print(\"Derivative of given function w.r.t y: \",diff(fxy,y))\n",
    "k=1\n",
    "while k>0:\n",
    "    i,j=fun_diff(fxy,x_val,y_val)\n",
    "    ts = tsol(fxy,i,j)\n",
    "    newx=x_val-ts[0]*i       #new value of x\n",
    "    newy=y_val-ts[0]*j       #new value of y\n",
    "    print(f\"value of t is {ts[0]}\\tnew value of x is {newx}\\t new value of y is {newy}\\t u8value of function is {f_xy(a,b,c,newx,newy)}\")\n",
    "    if isclose(f_xy(a,b,c,x_val,y_val),f_xy(a,b,c,newx,newy),abs_tol = 0.0005):\n",
    "        break\n",
    "    x_val,y_val=newx,newy\n",
    "    k+=1\n",
    "print(\"number of iterations: \",k)\n",
    "print(\"gradient descent for the given function at point: (x =\",newx,\", y =\",newy,\")\")\n",
    "    "
   ]
  }
 ],
 "metadata": {
  "kernelspec": {
   "display_name": "Python 3 (ipykernel)",
   "language": "python",
   "name": "python3"
  },
  "language_info": {
   "codemirror_mode": {
    "name": "ipython",
    "version": 3
   },
   "file_extension": ".py",
   "mimetype": "text/x-python",
   "name": "python",
   "nbconvert_exporter": "python",
   "pygments_lexer": "ipython3",
   "version": "3.11.4"
  }
 },
 "nbformat": 4,
 "nbformat_minor": 5
}
