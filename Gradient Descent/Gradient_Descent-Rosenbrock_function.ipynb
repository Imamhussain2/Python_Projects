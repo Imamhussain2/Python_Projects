{
 "cells": [
  {
   "cell_type": "markdown",
   "id": "57dbc0ac",
   "metadata": {},
   "source": [
    "# Gradient Descent Program for Rosenbrock function in python"
   ]
  },
  {
   "cell_type": "markdown",
   "id": "9c940116",
   "metadata": {},
   "source": [
    "### Imamhussain Naikwade"
   ]
  },
  {
   "cell_type": "code",
   "execution_count": 1,
   "id": "9d6a4df3",
   "metadata": {},
   "outputs": [],
   "source": [
    "from sympy import *\n",
    "from math import isclose\n",
    "import numpy as np"
   ]
  },
  {
   "cell_type": "code",
   "execution_count": 44,
   "id": "73af44d7",
   "metadata": {},
   "outputs": [],
   "source": [
    "#this function takes coefficient as input and return the function in format \n",
    "#  fxy = ((1-x)**2)+100*((y-(x**2))**2)\n",
    "def fun_xy():\n",
    "    x, y = symbols('x,y')\n",
    "    fxy = ((1-x)**2)+100*((y-(x**2))**2)\n",
    "    return fxy\n",
    "\n",
    "# this function calculates the value of the function \n",
    "def f_xy(x_val,y_val):\n",
    "    fxy_val = ((1-x_val)**2)+100*((y_val-(x_val**2))**2)\n",
    "    return fxy_val\n",
    "\n",
    "# Gradient Descent function\n",
    "def gradient_descent(starting_point,learning_rate, iterations):\n",
    "    previous_point = np.array(starting_point)\n",
    "    for i in range(iterations):\n",
    "        grad = grad_df(previous_point[0], previous_point[1])\n",
    "        new_point = previous_point - learning_rate * grad\n",
    "        if isclose(f_xy(previous_point[0], previous_point[1]),f_xy(new_point[0], new_point[1]),abs_tol = 0.0005):\n",
    "        break\n",
    "        previous_point = new_points\n",
    "    return current_point"
   ]
  },
  {
   "cell_type": "code",
   "execution_count": 61,
   "id": "1859e72c",
   "metadata": {},
   "outputs": [
    {
     "name": "stdout",
     "output_type": "stream",
     "text": [
      "Given Function:  (1 - x)**2 + 100*(-x**2 + y)**2\n",
      "value of x: 0\n",
      "value of y: 0\n",
      "Derivative of given function w.r.t x:  -400*x*(-x**2 + y) + 2*x - 2\n",
      "Derivative of given function w.r.t y:  -200*x**2 + 200*y\n",
      "Minimum point found at: [0.722507400454845 0.520716861225618]\n",
      "Minimum function value: 0.0771711642494722\n",
      "No of iteration:  1239\n"
     ]
    }
   ],
   "source": [
    "fxy = fun_xy()\n",
    "print(\"Given Function: \",fxy)   #printing function\n",
    "x_val = eval(input(\"value of x: \"))      #taking initial point (value of x)\n",
    "y_val = eval(input(\"value of y: \"))      #taking initial point (value of y)\n",
    "x, y = symbols('x,y')\n",
    "#printing Derivative of function\n",
    "print(\"Derivative of given function w.r.t x: \",diff(fxy,x))  \n",
    "print(\"Derivative of given function w.r.t y: \",diff(fxy,y))\n",
    "\n",
    "learning_rate = 0.001\n",
    "iterations = 1000\n",
    "k =1\n",
    "previous_point = np.array([x_val,y_val])\n",
    "while(k>0):\n",
    "    grad = grad_df(previous_point[0], previous_point[1])\n",
    "    new_point = previous_point - learning_rate * grad\n",
    "    if isclose(f_xy(previous_point[0], previous_point[1]),f_xy(new_point[0], new_point[1]),abs_tol = 0.0001):\n",
    "        break\n",
    "    previous_point = new_point\n",
    "    k+=1\n",
    "\n",
    "# Perform gradient descent\n",
    "min_point = new_point\n",
    "\n",
    "# Print the result\n",
    "print(\"Minimum point found at:\", min_point)\n",
    "print(\"Minimum function value:\", f_xy(min_point[0], min_point[1]))\n",
    "print(\"No of iteration: \",k)\n",
    "      "
   ]
  }
 ],
 "metadata": {
  "kernelspec": {
   "display_name": "Python 3 (ipykernel)",
   "language": "python",
   "name": "python3"
  },
  "language_info": {
   "codemirror_mode": {
    "name": "ipython",
    "version": 3
   },
   "file_extension": ".py",
   "mimetype": "text/x-python",
   "name": "python",
   "nbconvert_exporter": "python",
   "pygments_lexer": "ipython3",
   "version": "3.11.4"
  }
 },
 "nbformat": 4,
 "nbformat_minor": 5
}
