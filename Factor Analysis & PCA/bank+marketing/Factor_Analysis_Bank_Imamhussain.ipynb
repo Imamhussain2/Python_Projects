{
 "cells": [
  {
   "cell_type": "markdown",
   "id": "176dd647",
   "metadata": {},
   "source": [
    "# Factor Analysis and Principal Component Analysis"
   ]
  },
  {
   "cell_type": "markdown",
   "id": "7298079d",
   "metadata": {},
   "source": [
    "### Name : Imamhussain Naikwade"
   ]
  },
  {
   "cell_type": "code",
   "execution_count": 1,
   "id": "fda16c9f",
   "metadata": {},
   "outputs": [],
   "source": [
    "import pandas as pd\n",
    "import numpy as np\n",
    "from factor_analyzer import FactorAnalyzer\n",
    "import matplotlib.pyplot as plt"
   ]
  },
  {
   "cell_type": "markdown",
   "id": "4581bc56",
   "metadata": {},
   "source": [
    "### importing or loading the dataset"
   ]
  },
  {
   "cell_type": "code",
   "execution_count": 2,
   "id": "4b91e33e",
   "metadata": {},
   "outputs": [],
   "source": [
    "bank1 = pd.read_csv(\"./bank-additional-full.csv\", sep = \";\")\n",
    "bank2 = pd.read_csv(\"./bank-full.csv\", sep = \";\")\n",
    "bank = pd.concat([bank1, bank2[['balance']]], axis = 1)"
   ]
  },
  {
   "cell_type": "code",
   "execution_count": 3,
   "id": "3f3b3973",
   "metadata": {},
   "outputs": [
    {
     "data": {
      "text/plain": [
       "(45211, 22)"
      ]
     },
     "execution_count": 3,
     "metadata": {},
     "output_type": "execute_result"
    }
   ],
   "source": [
    "bank.shape"
   ]
  },
  {
   "cell_type": "code",
   "execution_count": 4,
   "id": "dc9135fc",
   "metadata": {},
   "outputs": [
    {
     "name": "stdout",
     "output_type": "stream",
     "text": [
      "<class 'pandas.core.frame.DataFrame'>\n",
      "RangeIndex: 45211 entries, 0 to 45210\n",
      "Data columns (total 22 columns):\n",
      " #   Column          Non-Null Count  Dtype  \n",
      "---  ------          --------------  -----  \n",
      " 0   age             41188 non-null  float64\n",
      " 1   job             41188 non-null  object \n",
      " 2   marital         41188 non-null  object \n",
      " 3   education       41188 non-null  object \n",
      " 4   default         41188 non-null  object \n",
      " 5   housing         41188 non-null  object \n",
      " 6   loan            41188 non-null  object \n",
      " 7   contact         41188 non-null  object \n",
      " 8   month           41188 non-null  object \n",
      " 9   day_of_week     41188 non-null  object \n",
      " 10  duration        41188 non-null  float64\n",
      " 11  campaign        41188 non-null  float64\n",
      " 12  pdays           41188 non-null  float64\n",
      " 13  previous        41188 non-null  float64\n",
      " 14  poutcome        41188 non-null  object \n",
      " 15  emp.var.rate    41188 non-null  float64\n",
      " 16  cons.price.idx  41188 non-null  float64\n",
      " 17  cons.conf.idx   41188 non-null  float64\n",
      " 18  euribor3m       41188 non-null  float64\n",
      " 19  nr.employed     41188 non-null  float64\n",
      " 20  y               41188 non-null  object \n",
      " 21  balance         45211 non-null  int64  \n",
      "dtypes: float64(10), int64(1), object(11)\n",
      "memory usage: 7.6+ MB\n"
     ]
    }
   ],
   "source": [
    "bank.info()"
   ]
  },
  {
   "cell_type": "markdown",
   "id": "53ef77ce",
   "metadata": {},
   "source": [
    "### Data Cleaning"
   ]
  },
  {
   "cell_type": "code",
   "execution_count": 5,
   "id": "56844bb0",
   "metadata": {},
   "outputs": [],
   "source": [
    "bank['job'].replace({'unknown':np.nan}, inplace = True)\n",
    "bank['marital'].replace({'unknown':np.nan}, inplace = True)\n",
    "bank['education'].replace({'unknown':np.nan}, inplace = True)\n",
    "bank['default'].replace({'unknown':np.nan, 'no':0, 'yes': 1}, inplace = True)\n",
    "bank['housing'].replace({'unknown':np.nan, 'no':0, 'yes': 1}, inplace = True)\n",
    "bank['loan'].replace({'unknown':np.nan,'no':0, 'yes': 1}, inplace = True)\n",
    "bank['poutcome'].replace({'nonexistent':'0.5','failure':0, 'success': 1}, inplace = True)"
   ]
  },
  {
   "cell_type": "code",
   "execution_count": 6,
   "id": "503e230b",
   "metadata": {},
   "outputs": [
    {
     "data": {
      "text/html": [
       "<div>\n",
       "<style scoped>\n",
       "    .dataframe tbody tr th:only-of-type {\n",
       "        vertical-align: middle;\n",
       "    }\n",
       "\n",
       "    .dataframe tbody tr th {\n",
       "        vertical-align: top;\n",
       "    }\n",
       "\n",
       "    .dataframe thead th {\n",
       "        text-align: right;\n",
       "    }\n",
       "</style>\n",
       "<table border=\"1\" class=\"dataframe\">\n",
       "  <thead>\n",
       "    <tr style=\"text-align: right;\">\n",
       "      <th></th>\n",
       "      <th>age</th>\n",
       "      <th>job</th>\n",
       "      <th>marital</th>\n",
       "      <th>education</th>\n",
       "      <th>default</th>\n",
       "      <th>housing</th>\n",
       "      <th>loan</th>\n",
       "      <th>contact</th>\n",
       "      <th>month</th>\n",
       "      <th>day_of_week</th>\n",
       "      <th>...</th>\n",
       "      <th>pdays</th>\n",
       "      <th>previous</th>\n",
       "      <th>poutcome</th>\n",
       "      <th>emp.var.rate</th>\n",
       "      <th>cons.price.idx</th>\n",
       "      <th>cons.conf.idx</th>\n",
       "      <th>euribor3m</th>\n",
       "      <th>nr.employed</th>\n",
       "      <th>y</th>\n",
       "      <th>balance</th>\n",
       "    </tr>\n",
       "  </thead>\n",
       "  <tbody>\n",
       "    <tr>\n",
       "      <th>0</th>\n",
       "      <td>56.0</td>\n",
       "      <td>housemaid</td>\n",
       "      <td>married</td>\n",
       "      <td>basic.4y</td>\n",
       "      <td>0.0</td>\n",
       "      <td>0.0</td>\n",
       "      <td>0.0</td>\n",
       "      <td>telephone</td>\n",
       "      <td>may</td>\n",
       "      <td>mon</td>\n",
       "      <td>...</td>\n",
       "      <td>999.0</td>\n",
       "      <td>0.0</td>\n",
       "      <td>0.5</td>\n",
       "      <td>1.1</td>\n",
       "      <td>93.994</td>\n",
       "      <td>-36.4</td>\n",
       "      <td>4.857</td>\n",
       "      <td>5191.0</td>\n",
       "      <td>no</td>\n",
       "      <td>2143</td>\n",
       "    </tr>\n",
       "    <tr>\n",
       "      <th>1</th>\n",
       "      <td>57.0</td>\n",
       "      <td>services</td>\n",
       "      <td>married</td>\n",
       "      <td>high.school</td>\n",
       "      <td>NaN</td>\n",
       "      <td>0.0</td>\n",
       "      <td>0.0</td>\n",
       "      <td>telephone</td>\n",
       "      <td>may</td>\n",
       "      <td>mon</td>\n",
       "      <td>...</td>\n",
       "      <td>999.0</td>\n",
       "      <td>0.0</td>\n",
       "      <td>0.5</td>\n",
       "      <td>1.1</td>\n",
       "      <td>93.994</td>\n",
       "      <td>-36.4</td>\n",
       "      <td>4.857</td>\n",
       "      <td>5191.0</td>\n",
       "      <td>no</td>\n",
       "      <td>29</td>\n",
       "    </tr>\n",
       "    <tr>\n",
       "      <th>2</th>\n",
       "      <td>37.0</td>\n",
       "      <td>services</td>\n",
       "      <td>married</td>\n",
       "      <td>high.school</td>\n",
       "      <td>0.0</td>\n",
       "      <td>1.0</td>\n",
       "      <td>0.0</td>\n",
       "      <td>telephone</td>\n",
       "      <td>may</td>\n",
       "      <td>mon</td>\n",
       "      <td>...</td>\n",
       "      <td>999.0</td>\n",
       "      <td>0.0</td>\n",
       "      <td>0.5</td>\n",
       "      <td>1.1</td>\n",
       "      <td>93.994</td>\n",
       "      <td>-36.4</td>\n",
       "      <td>4.857</td>\n",
       "      <td>5191.0</td>\n",
       "      <td>no</td>\n",
       "      <td>2</td>\n",
       "    </tr>\n",
       "    <tr>\n",
       "      <th>3</th>\n",
       "      <td>40.0</td>\n",
       "      <td>admin.</td>\n",
       "      <td>married</td>\n",
       "      <td>basic.6y</td>\n",
       "      <td>0.0</td>\n",
       "      <td>0.0</td>\n",
       "      <td>0.0</td>\n",
       "      <td>telephone</td>\n",
       "      <td>may</td>\n",
       "      <td>mon</td>\n",
       "      <td>...</td>\n",
       "      <td>999.0</td>\n",
       "      <td>0.0</td>\n",
       "      <td>0.5</td>\n",
       "      <td>1.1</td>\n",
       "      <td>93.994</td>\n",
       "      <td>-36.4</td>\n",
       "      <td>4.857</td>\n",
       "      <td>5191.0</td>\n",
       "      <td>no</td>\n",
       "      <td>1506</td>\n",
       "    </tr>\n",
       "    <tr>\n",
       "      <th>4</th>\n",
       "      <td>56.0</td>\n",
       "      <td>services</td>\n",
       "      <td>married</td>\n",
       "      <td>high.school</td>\n",
       "      <td>0.0</td>\n",
       "      <td>0.0</td>\n",
       "      <td>1.0</td>\n",
       "      <td>telephone</td>\n",
       "      <td>may</td>\n",
       "      <td>mon</td>\n",
       "      <td>...</td>\n",
       "      <td>999.0</td>\n",
       "      <td>0.0</td>\n",
       "      <td>0.5</td>\n",
       "      <td>1.1</td>\n",
       "      <td>93.994</td>\n",
       "      <td>-36.4</td>\n",
       "      <td>4.857</td>\n",
       "      <td>5191.0</td>\n",
       "      <td>no</td>\n",
       "      <td>1</td>\n",
       "    </tr>\n",
       "  </tbody>\n",
       "</table>\n",
       "<p>5 rows × 22 columns</p>\n",
       "</div>"
      ],
      "text/plain": [
       "    age        job  marital    education  default  housing  loan    contact  \\\n",
       "0  56.0  housemaid  married     basic.4y      0.0      0.0   0.0  telephone   \n",
       "1  57.0   services  married  high.school      NaN      0.0   0.0  telephone   \n",
       "2  37.0   services  married  high.school      0.0      1.0   0.0  telephone   \n",
       "3  40.0     admin.  married     basic.6y      0.0      0.0   0.0  telephone   \n",
       "4  56.0   services  married  high.school      0.0      0.0   1.0  telephone   \n",
       "\n",
       "  month day_of_week  ...  pdays  previous  poutcome  emp.var.rate  \\\n",
       "0   may         mon  ...  999.0       0.0       0.5           1.1   \n",
       "1   may         mon  ...  999.0       0.0       0.5           1.1   \n",
       "2   may         mon  ...  999.0       0.0       0.5           1.1   \n",
       "3   may         mon  ...  999.0       0.0       0.5           1.1   \n",
       "4   may         mon  ...  999.0       0.0       0.5           1.1   \n",
       "\n",
       "  cons.price.idx  cons.conf.idx  euribor3m  nr.employed   y  balance  \n",
       "0         93.994          -36.4      4.857       5191.0  no     2143  \n",
       "1         93.994          -36.4      4.857       5191.0  no       29  \n",
       "2         93.994          -36.4      4.857       5191.0  no        2  \n",
       "3         93.994          -36.4      4.857       5191.0  no     1506  \n",
       "4         93.994          -36.4      4.857       5191.0  no        1  \n",
       "\n",
       "[5 rows x 22 columns]"
      ]
     },
     "execution_count": 6,
     "metadata": {},
     "output_type": "execute_result"
    }
   ],
   "source": [
    "bank.head()"
   ]
  },
  {
   "cell_type": "code",
   "execution_count": 7,
   "id": "6183cbcd",
   "metadata": {},
   "outputs": [
    {
     "data": {
      "text/plain": [
       "age                4023\n",
       "job                4353\n",
       "marital            4103\n",
       "education          5754\n",
       "default           12620\n",
       "housing            5013\n",
       "loan               5013\n",
       "contact            4023\n",
       "month              4023\n",
       "day_of_week        4023\n",
       "duration           4023\n",
       "campaign           4023\n",
       "pdays              4023\n",
       "previous           4023\n",
       "poutcome           4023\n",
       "emp.var.rate       4023\n",
       "cons.price.idx     4023\n",
       "cons.conf.idx      4023\n",
       "euribor3m          4023\n",
       "nr.employed        4023\n",
       "y                  4023\n",
       "balance               0\n",
       "dtype: int64"
      ]
     },
     "execution_count": 7,
     "metadata": {},
     "output_type": "execute_result"
    }
   ],
   "source": [
    "bank.isna().sum()"
   ]
  },
  {
   "cell_type": "code",
   "execution_count": 8,
   "id": "9be7aa9e",
   "metadata": {},
   "outputs": [],
   "source": [
    "bank = bank.dropna(how ='any')"
   ]
  },
  {
   "cell_type": "code",
   "execution_count": 9,
   "id": "91b2caf7",
   "metadata": {},
   "outputs": [],
   "source": [
    "bank.index = range(0,bank.shape[0])\n",
    "bank = bank.astype({\"default\":'int', \"housing\":'int', \"loan\":'int', \"poutcome\":'float'})"
   ]
  },
  {
   "cell_type": "code",
   "execution_count": 10,
   "id": "60ae6084",
   "metadata": {},
   "outputs": [],
   "source": [
    "from sklearn.preprocessing import LabelEncoder\n",
    "bank['job'] = LabelEncoder().fit_transform(bank['job'])\n",
    "bank['marital'] = LabelEncoder().fit_transform(bank['marital'])\n",
    "bank['education'] = LabelEncoder().fit_transform(bank['education'])\n",
    "bank['contact'] = LabelEncoder().fit_transform(bank['contact'])\n",
    "bank['month'] = LabelEncoder().fit_transform(bank['month'])\n",
    "bank['day_of_week'] = LabelEncoder().fit_transform(bank['day_of_week'])"
   ]
  },
  {
   "cell_type": "code",
   "execution_count": 11,
   "id": "260b3ce0",
   "metadata": {},
   "outputs": [
    {
     "data": {
      "text/plain": [
       "age               0\n",
       "job               0\n",
       "marital           0\n",
       "education         0\n",
       "default           0\n",
       "housing           0\n",
       "loan              0\n",
       "contact           0\n",
       "month             0\n",
       "day_of_week       0\n",
       "duration          0\n",
       "campaign          0\n",
       "pdays             0\n",
       "previous          0\n",
       "poutcome          0\n",
       "emp.var.rate      0\n",
       "cons.price.idx    0\n",
       "cons.conf.idx     0\n",
       "euribor3m         0\n",
       "nr.employed       0\n",
       "y                 0\n",
       "balance           0\n",
       "dtype: int64"
      ]
     },
     "execution_count": 11,
     "metadata": {},
     "output_type": "execute_result"
    }
   ],
   "source": [
    "bank.isna().sum()"
   ]
  },
  {
   "cell_type": "code",
   "execution_count": 12,
   "id": "041534b6",
   "metadata": {},
   "outputs": [
    {
     "data": {
      "text/plain": [
       "(30488, 22)"
      ]
     },
     "execution_count": 12,
     "metadata": {},
     "output_type": "execute_result"
    }
   ],
   "source": [
    "bank.shape"
   ]
  },
  {
   "cell_type": "markdown",
   "id": "2db94085",
   "metadata": {},
   "source": [
    "### Feature's Dataset"
   ]
  },
  {
   "cell_type": "code",
   "execution_count": 13,
   "id": "957742eb",
   "metadata": {},
   "outputs": [],
   "source": [
    "df = bank[['age', 'job', 'marital','education', 'default','balance', 'housing', 'loan',\n",
    "       'contact', 'month', 'day_of_week', 'duration', 'campaign', 'pdays',\n",
    "       'previous', 'poutcome']]"
   ]
  },
  {
   "cell_type": "code",
   "execution_count": 14,
   "id": "4f27036e",
   "metadata": {},
   "outputs": [
    {
     "data": {
      "text/plain": [
       "(30488, 16)"
      ]
     },
     "execution_count": 14,
     "metadata": {},
     "output_type": "execute_result"
    }
   ],
   "source": [
    "df.shape"
   ]
  },
  {
   "cell_type": "markdown",
   "id": "ac1c0863",
   "metadata": {},
   "source": [
    "## Adequacy Test"
   ]
  },
  {
   "cell_type": "markdown",
   "id": "4f136d89",
   "metadata": {},
   "source": [
    "### Bartlett’s test"
   ]
  },
  {
   "cell_type": "code",
   "execution_count": 15,
   "id": "5e511182",
   "metadata": {},
   "outputs": [
    {
     "name": "stdout",
     "output_type": "stream",
     "text": [
      "69396.14653213619 0.0\n"
     ]
    }
   ],
   "source": [
    "#p-value should be 0 (statistically sig.)\n",
    "from factor_analyzer.factor_analyzer import calculate_bartlett_sphericity\n",
    "chi_square_value,p_value=calculate_bartlett_sphericity(df)\n",
    "print(chi_square_value, p_value)"
   ]
  },
  {
   "cell_type": "markdown",
   "id": "9eec6a52",
   "metadata": {},
   "source": [
    "### Kaiser-Meyer-Olkin Test"
   ]
  },
  {
   "cell_type": "code",
   "execution_count": 16,
   "id": "c53f698e",
   "metadata": {},
   "outputs": [
    {
     "name": "stdout",
     "output_type": "stream",
     "text": [
      "0.30602072548083903\n"
     ]
    }
   ],
   "source": [
    "#Value should be 0.6<\n",
    "from factor_analyzer.factor_analyzer import calculate_kmo\n",
    "kmo_all,kmo_model=calculate_kmo(df)\n",
    "print(kmo_model)"
   ]
  },
  {
   "cell_type": "markdown",
   "id": "109620c5",
   "metadata": {},
   "source": [
    "### Since overall KMO for our data is 0.30, (ideally it should be greater than 0.6). This value indicates that we cannot proceed with planned factor analysis. So we will go for Principal Component Analysis. even so I am doing both factor analysis as well as PCA to compare the result "
   ]
  },
  {
   "cell_type": "raw",
   "id": "7a7c16ab",
   "metadata": {},
   "source": []
  },
  {
   "cell_type": "markdown",
   "id": "8ae920bd",
   "metadata": {},
   "source": [
    "### Choosing the Number of Factors"
   ]
  },
  {
   "cell_type": "code",
   "execution_count": 17,
   "id": "2a9bd44a",
   "metadata": {},
   "outputs": [
    {
     "data": {
      "text/plain": [
       "array([1.72821386, 1.49933475, 1.38442801, 1.26577746, 1.08284765,\n",
       "       1.05545096, 1.03382819, 0.99501043, 0.9892758 , 0.96522963,\n",
       "       0.94555717, 0.90967022, 0.8510012 , 0.63335852, 0.58704559,\n",
       "       0.07397056])"
      ]
     },
     "execution_count": 17,
     "metadata": {},
     "output_type": "execute_result"
    }
   ],
   "source": [
    "fa = FactorAnalyzer()\n",
    "fa.fit(df)\n",
    "ev, v = fa.get_eigenvalues()\n",
    "ev"
   ]
  },
  {
   "cell_type": "markdown",
   "id": "9d9436aa",
   "metadata": {},
   "source": [
    "## Scree Plot"
   ]
  },
  {
   "cell_type": "code",
   "execution_count": 18,
   "id": "339a72d2",
   "metadata": {},
   "outputs": [
    {
     "data": {
      "image/png": "[encoded data removed]",
      "text/plain": [
       "<Figure size 640x480 with 1 Axes>"
      ]
     },
     "metadata": {},
     "output_type": "display_data"
    }
   ],
   "source": [
    "plt.scatter(range(1,df.shape[1]+1),ev)\n",
    "plt.plot(range(1,df.shape[1]+1),ev)\n",
    "plt.title('Scree Plot')\n",
    "plt.xlabel('Factors')\n",
    "plt.ylabel('Eigen Value')\n",
    "plt.grid()"
   ]
  },
  {
   "cell_type": "markdown",
   "id": "90956aa6",
   "metadata": {},
   "source": [
    "### We can see only for 7-factors eigenvalues are greater than one also from the graph, we can see that the eigenvalues drop below 1 from the 8th factor. So, the optimal number of factors is 7."
   ]
  },
  {
   "cell_type": "markdown",
   "id": "2159452e",
   "metadata": {},
   "source": [
    "## Performing Factor Analysis"
   ]
  },
  {
   "cell_type": "markdown",
   "id": "5d98f0aa",
   "metadata": {},
   "source": [
    "### Unrotated Factor Matrix"
   ]
  },
  {
   "cell_type": "code",
   "execution_count": 19,
   "id": "2d87d167",
   "metadata": {},
   "outputs": [
    {
     "name": "stdout",
     "output_type": "stream",
     "text": [
      "                    0         1         2         3         4         5  \\\n",
      "age         -0.022324  0.058659  0.916775 -0.007116  0.029444  0.054796   \n",
      "job          0.010597  0.032884  0.006191  0.011206  0.247934  0.042476   \n",
      "marital     -0.029910 -0.010691 -0.448220 -0.005869  0.086190 -0.037216   \n",
      "education    0.032562  0.063494 -0.119107  0.006392  0.474409  0.107614   \n",
      "default      0.002058 -0.005783  0.005547 -0.002029  0.025019 -0.007071   \n",
      "balance     -0.006868 -0.005101  0.008712  0.069718  0.032258 -0.017645   \n",
      "housing      0.026535  0.006090  0.027067  0.009378  0.004790 -0.011309   \n",
      "loan         0.013602  0.003889 -0.003356  0.004225 -0.030617  0.021892   \n",
      "contact      0.132351  0.090314 -0.008587  0.206667 -0.133984  0.153124   \n",
      "month       -0.078007 -0.046980 -0.041201  0.979638 -0.118093 -0.030252   \n",
      "day_of_week  0.023141  0.013845 -0.015763  0.013886 -0.019181 -0.135015   \n",
      "duration    -0.002819  0.032206  0.001063 -0.019904 -0.038765 -0.201450   \n",
      "campaign     0.013369  0.029798  0.004635 -0.050438  0.006401  0.343591   \n",
      "pdays        0.890953 -0.539203 -0.009244 -0.034817  0.000642 -0.003283   \n",
      "previous    -0.918433 -0.284356 -0.030802  0.093771 -0.120048  0.106592   \n",
      "poutcome     0.058874  1.039936  0.061296 -0.064213  0.174653 -0.140635   \n",
      "\n",
      "                    6  \n",
      "age          0.079799  \n",
      "job         -0.026985  \n",
      "marital      0.007395  \n",
      "education    0.055813  \n",
      "default     -0.017119  \n",
      "balance      0.028852  \n",
      "housing      0.319467  \n",
      "loan         0.140296  \n",
      "contact     -0.215786  \n",
      "month       -0.087450  \n",
      "day_of_week -0.006404  \n",
      "duration    -0.016117  \n",
      "campaign    -0.006852  \n",
      "pdays        0.084305  \n",
      "previous    -0.108933  \n",
      "poutcome     0.044502  \n"
     ]
    }
   ],
   "source": [
    "fa = FactorAnalyzer(n_factors=7)\n",
    "fa.fit(df)\n",
    "print(pd.DataFrame(fa.loadings_,index=df.columns))"
   ]
  },
  {
   "cell_type": "code",
   "execution_count": 20,
   "id": "e470b3f9",
   "metadata": {},
   "outputs": [
    {
     "name": "stdout",
     "output_type": "stream",
     "text": [
      "                         0         1         2         3         4         5  \\\n",
      "Variance          1.668614  1.474326  1.063286  1.024886  0.376183  0.251120   \n",
      "Proportional Var  0.104288  0.092145  0.066455  0.064055  0.023511  0.015695   \n",
      "Cumulative Var    0.104288  0.196434  0.262889  0.326945  0.350456  0.366151   \n",
      "\n",
      "                         6  \n",
      "Variance          0.208647  \n",
      "Proportional Var  0.013040  \n",
      "Cumulative Var    0.379191  \n"
     ]
    }
   ],
   "source": [
    "print(pd.DataFrame(fa.get_factor_variance(),index=['Variance','Proportional Var','Cumulative Var']))"
   ]
  },
  {
   "cell_type": "markdown",
   "id": "880d0ff3",
   "metadata": {},
   "source": [
    "### Total 37% cumulative Variance explained by the 7 factors."
   ]
  },
  {
   "cell_type": "markdown",
   "id": "79a297a1",
   "metadata": {},
   "source": [
    "### Rotated Factor Matrix"
   ]
  },
  {
   "cell_type": "code",
   "execution_count": 21,
   "id": "69b1e067",
   "metadata": {},
   "outputs": [
    {
     "name": "stdout",
     "output_type": "stream",
     "text": [
      "                    0         1         2         3         4         5  \\\n",
      "age         -0.056015  0.007618  0.900496  0.002470  0.015193  0.000821   \n",
      "job         -0.009813  0.012328 -0.007565  0.005152  0.228821  0.018910   \n",
      "marital     -0.030150  0.001967 -0.449543 -0.012012  0.097779 -0.026949   \n",
      "education   -0.011847  0.027451 -0.153226 -0.006211  0.439224  0.070463   \n",
      "default     -0.000284 -0.007939  0.005706 -0.002480  0.025517 -0.010000   \n",
      "balance     -0.014078 -0.009300  0.006207  0.069466  0.030959 -0.024458   \n",
      "housing     -0.012064 -0.009305  0.003178  0.012819  0.013660 -0.012051   \n",
      "loan         0.004133  0.002246 -0.012473  0.005631 -0.029674  0.026016   \n",
      "contact      0.194979  0.121188  0.009667  0.204024 -0.210033  0.193990   \n",
      "month       -0.026376 -0.014342 -0.012892  0.976731 -0.177702 -0.046799   \n",
      "day_of_week  0.010821  0.009868 -0.012464  0.017234 -0.010006 -0.125163   \n",
      "duration    -0.019817  0.025278  0.006191 -0.014412 -0.018636 -0.191118   \n",
      "campaign     0.052594  0.044929 -0.003027 -0.058003 -0.037300  0.343018   \n",
      "pdays        0.837725 -0.530727 -0.000331 -0.032668 -0.024087  0.089527   \n",
      "previous    -0.855625 -0.254488  0.002681  0.086618  0.037265 -0.051998   \n",
      "poutcome     0.040494  0.987894  0.005507 -0.057844  0.004215 -0.057125   \n",
      "\n",
      "                    6  \n",
      "age          0.013497  \n",
      "job         -0.026064  \n",
      "marital      0.045194  \n",
      "education    0.064438  \n",
      "default     -0.016929  \n",
      "balance      0.029081  \n",
      "housing      0.310543  \n",
      "loan         0.136690  \n",
      "contact     -0.236552  \n",
      "month       -0.079376  \n",
      "day_of_week -0.009220  \n",
      "duration    -0.017835  \n",
      "campaign    -0.009376  \n",
      "pdays       -0.001780  \n",
      "previous     0.018977  \n",
      "poutcome    -0.011921  \n"
     ]
    }
   ],
   "source": [
    "fa = FactorAnalyzer(n_factors=7,rotation='varimax')\n",
    "fa.fit(df)\n",
    "print(pd.DataFrame(fa.loadings_,index=df.columns))"
   ]
  },
  {
   "cell_type": "code",
   "execution_count": 22,
   "id": "103e4848",
   "metadata": {},
   "outputs": [
    {
     "name": "stdout",
     "output_type": "stream",
     "text": [
      "                         0         1         2         3         4         5  \\\n",
      "Variance          1.482149  1.341226  1.037254  1.016658  0.337263  0.231227   \n",
      "Proportional Var  0.092634  0.083827  0.064828  0.063541  0.021079  0.014452   \n",
      "Cumulative Var    0.092634  0.176461  0.241289  0.304830  0.325909  0.340361   \n",
      "\n",
      "                         6  \n",
      "Variance          0.186563  \n",
      "Proportional Var  0.011660  \n",
      "Cumulative Var    0.352021  \n"
     ]
    }
   ],
   "source": [
    "print(pd.DataFrame(fa.get_factor_variance(),index=['Variance','Proportional Var','Cumulative Var']))"
   ]
  },
  {
   "cell_type": "markdown",
   "id": "c5c123a3",
   "metadata": {},
   "source": [
    "### Total 35% cumulative Variance explained by the 7 factors."
   ]
  },
  {
   "cell_type": "raw",
   "id": "939e6e3f",
   "metadata": {},
   "source": []
  },
  {
   "cell_type": "markdown",
   "id": "286c5524",
   "metadata": {},
   "source": [
    "## Principal Component Analysis "
   ]
  },
  {
   "cell_type": "markdown",
   "id": "c91d589d",
   "metadata": {},
   "source": [
    "### distributing the dataset into two components X and Y"
   ]
  },
  {
   "cell_type": "code",
   "execution_count": 23,
   "id": "1a19061f",
   "metadata": {},
   "outputs": [],
   "source": [
    "x = bank[['age', 'job', 'marital','education', 'default','balance', 'housing', 'loan',\n",
    "       'contact', 'month', 'day_of_week', 'duration', 'campaign', 'pdays',\n",
    "       'previous', 'poutcome']]\n",
    "y = np.array(bank[['y']]).ravel()"
   ]
  },
  {
   "cell_type": "code",
   "execution_count": 24,
   "id": "f6fa0672",
   "metadata": {},
   "outputs": [
    {
     "data": {
      "text/plain": [
       "((30488, 16), (30488,))"
      ]
     },
     "execution_count": 24,
     "metadata": {},
     "output_type": "execute_result"
    }
   ],
   "source": [
    "x.shape,y.shape"
   ]
  },
  {
   "cell_type": "markdown",
   "id": "44da04ba",
   "metadata": {},
   "source": [
    "### Data Scaling"
   ]
  },
  {
   "cell_type": "code",
   "execution_count": 25,
   "id": "da8b1b91",
   "metadata": {},
   "outputs": [],
   "source": [
    "from sklearn.preprocessing import StandardScaler\n",
    "sc = StandardScaler()\n",
    " \n",
    "x_scaled = sc.fit_transform(x)"
   ]
  },
  {
   "cell_type": "markdown",
   "id": "7958f799",
   "metadata": {},
   "source": [
    "### logistic Regression model performance before PCA "
   ]
  },
  {
   "cell_type": "code",
   "execution_count": 26,
   "id": "059e957f",
   "metadata": {},
   "outputs": [],
   "source": [
    "from sklearn.model_selection import train_test_split\n",
    "x_train, x_test, y_train, y_test = train_test_split(x_scaled, y, test_size = 0.2, random_state = 0)"
   ]
  },
  {
   "cell_type": "code",
   "execution_count": 27,
   "id": "83177ffc",
   "metadata": {},
   "outputs": [
    {
     "data": {
      "text/plain": [
       "0.9009511315185307"
      ]
     },
     "execution_count": 27,
     "metadata": {},
     "output_type": "execute_result"
    }
   ],
   "source": [
    "from sklearn.linear_model import LogisticRegression\n",
    "model = LogisticRegression()\n",
    "model.fit(x_train, y_train)\n",
    "model.score(x_test, y_test)"
   ]
  },
  {
   "cell_type": "markdown",
   "id": "dcd71554",
   "metadata": {},
   "source": [
    "### model performance without PCA is 90%"
   ]
  },
  {
   "cell_type": "markdown",
   "id": "ce6904e9",
   "metadata": {},
   "source": [
    "### PCA for 95% of variance"
   ]
  },
  {
   "cell_type": "code",
   "execution_count": 28,
   "id": "f3a6ecc5",
   "metadata": {},
   "outputs": [],
   "source": [
    "from sklearn.decomposition import PCA\n",
    " \n",
    "pca = PCA(n_components = 0.95)\n",
    " \n",
    "x_pca = pca.fit_transform(x_scaled)"
   ]
  },
  {
   "cell_type": "code",
   "execution_count": 29,
   "id": "4bc28b10",
   "metadata": {},
   "outputs": [
    {
     "data": {
      "text/plain": [
       "(30488, 14)"
      ]
     },
     "execution_count": 29,
     "metadata": {},
     "output_type": "execute_result"
    }
   ],
   "source": [
    "x_pca.shape"
   ]
  },
  {
   "cell_type": "code",
   "execution_count": 30,
   "id": "7a44762e",
   "metadata": {},
   "outputs": [
    {
     "data": {
      "text/plain": [
       "array([0.10801337, 0.09370842, 0.08652675, 0.07911109, 0.06767798,\n",
       "       0.06596569, 0.06461426, 0.06218815, 0.06182974, 0.06032685,\n",
       "       0.05909732, 0.05685439, 0.05318757, 0.03958491])"
      ]
     },
     "execution_count": 30,
     "metadata": {},
     "output_type": "execute_result"
    }
   ],
   "source": [
    "pca.explained_variance_ratio_"
   ]
  },
  {
   "cell_type": "code",
   "execution_count": null,
   "id": "74155e84",
   "metadata": {},
   "outputs": [],
   "source": []
  },
  {
   "cell_type": "markdown",
   "id": "efb5c433",
   "metadata": {},
   "source": [
    "### Cumulative Variance captured per Principal Component"
   ]
  },
  {
   "cell_type": "code",
   "execution_count": 31,
   "id": "222e7039",
   "metadata": {},
   "outputs": [
    {
     "data": {
      "image/png": "[encoded data removed]",
      "text/plain": [
       "<Figure size 1200x600 with 1 Axes>"
      ]
     },
     "metadata": {},
     "output_type": "display_data"
    }
   ],
   "source": [
    "plt.rcParams[\"figure.figsize\"] = (12,6)\n",
    "fig, ax = plt.subplots()\n",
    "xi = np.arange(1, 15, step=1)\n",
    "yi = np.cumsum(pca.explained_variance_ratio_)\n",
    "\n",
    "plt.ylim(0.0,1.1)\n",
    "plt.plot(xi, yi, marker='o', linestyle='--', color='b')\n",
    "\n",
    "plt.xlabel('Number of Components')\n",
    "plt.xticks(np.arange(0, 15, step=1)) #change from 0-based array index to 1-based human-readable label\n",
    "plt.ylabel('Cumulative variance (%)')\n",
    "plt.title('The number of components needed to explain variance')\n",
    "\n",
    "plt.axhline(y=0.95, color='r', linestyle='-')\n",
    "plt.text(0.5, 0.85, '95% cut-off threshold', color = 'red', fontsize=16)\n",
    "\n",
    "ax.grid(axis='x')\n",
    "plt.show()"
   ]
  },
  {
   "cell_type": "code",
   "execution_count": null,
   "id": "6119b157",
   "metadata": {},
   "outputs": [],
   "source": []
  },
  {
   "cell_type": "markdown",
   "id": "0a495a55",
   "metadata": {},
   "source": [
    "### logistic Regression model performance after PCA"
   ]
  },
  {
   "cell_type": "code",
   "execution_count": 32,
   "id": "e577d0f7",
   "metadata": {},
   "outputs": [],
   "source": [
    "from sklearn.model_selection import train_test_split\n",
    " \n",
    "x_train_pca, x_test_pca, y_train, y_test = train_test_split(x_pca, y, test_size = 0.2, random_state = 0)"
   ]
  },
  {
   "cell_type": "code",
   "execution_count": 33,
   "id": "7a397bf5",
   "metadata": {},
   "outputs": [
    {
     "data": {
      "text/plain": [
       "0.9007871433256806"
      ]
     },
     "execution_count": 33,
     "metadata": {},
     "output_type": "execute_result"
    }
   ],
   "source": [
    "from sklearn.linear_model import LogisticRegression\n",
    "model = LogisticRegression()\n",
    "model.fit(x_train_pca, y_train)\n",
    "model.score(x_test_pca, y_test)"
   ]
  },
  {
   "cell_type": "markdown",
   "id": "da6bc5f4",
   "metadata": {},
   "source": [
    "## so after droping last 2 columns we are lossing only 5% data and model performance has dropped by only 1%."
   ]
  },
  {
   "cell_type": "code",
   "execution_count": 48,
   "id": "1f49a77e",
   "metadata": {},
   "outputs": [
    {
     "data": {
      "image/png": "[encoded data removed]",
      "text/plain": [
       "<Figure size 2000x800 with 1 Axes>"
      ]
     },
     "metadata": {},
     "output_type": "display_data"
    }
   ],
   "source": [
    "plt.figure(figsize=(20,8))\n",
    "loadings = pd.DataFrame(fa.loadings_,index = x.columns)\n",
    "loadings.abs().plot(kind = 'bar', ax = plt.gca())\n",
    "plt.title('Factor Loadings')\n",
    "plt.xlabel('Variables')\n",
    "plt.ylabel('Loadings')\n",
    "plt.show()"
   ]
  }
 ],
 "metadata": {
  "kernelspec": {
   "display_name": "Python 3 (ipykernel)",
   "language": "python",
   "name": "python3"
  },
  "language_info": {
   "codemirror_mode": {
    "name": "ipython",
    "version": 3
   },
   "file_extension": ".py",
   "mimetype": "text/x-python",
   "name": "python",
   "nbconvert_exporter": "python",
   "pygments_lexer": "ipython3",
   "version": "3.11.4"
  }
 },
 "nbformat": 4,
 "nbformat_minor": 5
}
